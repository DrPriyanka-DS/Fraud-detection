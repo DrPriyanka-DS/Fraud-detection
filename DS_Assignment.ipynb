{
 "cells": [
  {
   "cell_type": "markdown",
   "id": "e8a19d76",
   "metadata": {},
   "source": [
    "## Libraries"
   ]
  },
  {
   "cell_type": "code",
   "execution_count": 25,
   "id": "44c35444",
   "metadata": {},
   "outputs": [],
   "source": [
    "import pandas as pd # data processing\n",
    "from sklearn.model_selection import train_test_split  # data split\n",
    "from sklearn.preprocessing import LabelEncoder #encoding categorical variable\n",
    "from sklearn.linear_model import Lasso #least absolute shrinkage and selection operator\n",
    "from sklearn.feature_selection import RFE #Recursive Feature Elimination\n",
    "from sklearn.metrics import classification_report  # evaluation metric\n",
    "from sklearn.ensemble import RandomForestClassifier, GradientBoostingClassifier  # Random forest tree algorithm # XGBoost algorithm\n",
    "import seaborn as sns # visualization\n",
    "import matplotlib.pyplot as plt # visualization\n",
    "from termcolor import colored as cl # text customization\n",
    "from sklearn.metrics import accuracy_score # evaluation metric\n",
    "\n"
   ]
  },
  {
   "cell_type": "markdown",
   "id": "08682157",
   "metadata": {},
   "source": [
    "## Load dataset"
   ]
  },
  {
   "cell_type": "code",
   "execution_count": 26,
   "id": "0a9ea078",
   "metadata": {},
   "outputs": [],
   "source": [
    "df = pd.read_csv('frd_sample.csv')"
   ]
  },
  {
   "cell_type": "code",
   "execution_count": 27,
   "id": "53d0dc9e",
   "metadata": {},
   "outputs": [
    {
     "data": {
      "text/html": [
       "<div>\n",
       "<style scoped>\n",
       "    .dataframe tbody tr th:only-of-type {\n",
       "        vertical-align: middle;\n",
       "    }\n",
       "\n",
       "    .dataframe tbody tr th {\n",
       "        vertical-align: top;\n",
       "    }\n",
       "\n",
       "    .dataframe thead th {\n",
       "        text-align: right;\n",
       "    }\n",
       "</style>\n",
       "<table border=\"1\" class=\"dataframe\">\n",
       "  <thead>\n",
       "    <tr style=\"text-align: right;\">\n",
       "      <th></th>\n",
       "      <th>EVENT_TIME</th>\n",
       "      <th>EVENT_ID</th>\n",
       "      <th>CHANNEL</th>\n",
       "      <th>CHALLENGE_RESULT</th>\n",
       "      <th>USER_ID</th>\n",
       "      <th>IP_ADDRESS</th>\n",
       "      <th>ISP</th>\n",
       "      <th>USER_COUNTRY</th>\n",
       "      <th>PAYEE_ID</th>\n",
       "      <th>PAYEE_COUNTRY</th>\n",
       "      <th>AMOUNT</th>\n",
       "      <th>IS_FRAUD</th>\n",
       "    </tr>\n",
       "  </thead>\n",
       "  <tbody>\n",
       "    <tr>\n",
       "      <th>0</th>\n",
       "      <td>20160801 00:01</td>\n",
       "      <td>1</td>\n",
       "      <td>MOBILE-APP</td>\n",
       "      <td>Y</td>\n",
       "      <td>user260</td>\n",
       "      <td>86.132.25.214</td>\n",
       "      <td>ISP7</td>\n",
       "      <td>USA</td>\n",
       "      <td>payee48</td>\n",
       "      <td>CHN</td>\n",
       "      <td>2</td>\n",
       "      <td>G</td>\n",
       "    </tr>\n",
       "    <tr>\n",
       "      <th>1</th>\n",
       "      <td>20160801 00:05</td>\n",
       "      <td>2</td>\n",
       "      <td>WEB</td>\n",
       "      <td>N</td>\n",
       "      <td>user48</td>\n",
       "      <td>113.136.87.62</td>\n",
       "      <td>ISP8</td>\n",
       "      <td>GBR</td>\n",
       "      <td>payee2</td>\n",
       "      <td>YEM</td>\n",
       "      <td>20</td>\n",
       "      <td>G</td>\n",
       "    </tr>\n",
       "    <tr>\n",
       "      <th>2</th>\n",
       "      <td>20160801 00:07</td>\n",
       "      <td>3</td>\n",
       "      <td>MOBILE-APP</td>\n",
       "      <td>N</td>\n",
       "      <td>user181</td>\n",
       "      <td>94.97.9.208</td>\n",
       "      <td>ISP16</td>\n",
       "      <td>CHN</td>\n",
       "      <td>payee79</td>\n",
       "      <td>RUS</td>\n",
       "      <td>10</td>\n",
       "      <td>G</td>\n",
       "    </tr>\n",
       "    <tr>\n",
       "      <th>3</th>\n",
       "      <td>20160801 00:08</td>\n",
       "      <td>4</td>\n",
       "      <td>WEB</td>\n",
       "      <td>N</td>\n",
       "      <td>user242</td>\n",
       "      <td>170.245.72.244</td>\n",
       "      <td>ISP12</td>\n",
       "      <td>USA</td>\n",
       "      <td>payee33</td>\n",
       "      <td>RUS</td>\n",
       "      <td>20</td>\n",
       "      <td>G</td>\n",
       "    </tr>\n",
       "    <tr>\n",
       "      <th>4</th>\n",
       "      <td>20160801 00:08</td>\n",
       "      <td>5</td>\n",
       "      <td>MOBILE-BROWSER</td>\n",
       "      <td>N</td>\n",
       "      <td>user281</td>\n",
       "      <td>124.83.40.103</td>\n",
       "      <td>ISP29</td>\n",
       "      <td>CHN</td>\n",
       "      <td>payee5</td>\n",
       "      <td>CHN</td>\n",
       "      <td>90000</td>\n",
       "      <td>G</td>\n",
       "    </tr>\n",
       "  </tbody>\n",
       "</table>\n",
       "</div>"
      ],
      "text/plain": [
       "       EVENT_TIME  EVENT_ID         CHANNEL CHALLENGE_RESULT  USER_ID  \\\n",
       "0  20160801 00:01         1      MOBILE-APP                Y  user260   \n",
       "1  20160801 00:05         2             WEB                N   user48   \n",
       "2  20160801 00:07         3      MOBILE-APP                N  user181   \n",
       "3  20160801 00:08         4             WEB                N  user242   \n",
       "4  20160801 00:08         5  MOBILE-BROWSER                N  user281   \n",
       "\n",
       "       IP_ADDRESS    ISP USER_COUNTRY PAYEE_ID PAYEE_COUNTRY  AMOUNT IS_FRAUD  \n",
       "0   86.132.25.214   ISP7          USA  payee48           CHN       2        G  \n",
       "1   113.136.87.62   ISP8          GBR   payee2           YEM      20        G  \n",
       "2     94.97.9.208  ISP16          CHN  payee79           RUS      10        G  \n",
       "3  170.245.72.244  ISP12          USA  payee33           RUS      20        G  \n",
       "4   124.83.40.103  ISP29          CHN   payee5           CHN   90000        G  "
      ]
     },
     "execution_count": 27,
     "metadata": {},
     "output_type": "execute_result"
    }
   ],
   "source": [
    "#Check the data\n",
    "df.head(5)"
   ]
  },
  {
   "cell_type": "code",
   "execution_count": 28,
   "id": "25f290b4",
   "metadata": {},
   "outputs": [
    {
     "data": {
      "text/plain": [
       "(3300, 12)"
      ]
     },
     "execution_count": 28,
     "metadata": {},
     "output_type": "execute_result"
    }
   ],
   "source": [
    "df.shape"
   ]
  },
  {
   "cell_type": "code",
   "execution_count": 29,
   "id": "a8b39153",
   "metadata": {},
   "outputs": [
    {
     "name": "stdout",
     "output_type": "stream",
     "text": [
      "EVENT_TIME          object\n",
      "EVENT_ID             int64\n",
      "CHANNEL             object\n",
      "CHALLENGE_RESULT    object\n",
      "USER_ID             object\n",
      "IP_ADDRESS          object\n",
      "ISP                 object\n",
      "USER_COUNTRY        object\n",
      "PAYEE_ID            object\n",
      "PAYEE_COUNTRY       object\n",
      "AMOUNT               int64\n",
      "IS_FRAUD            object\n",
      "dtype: object\n"
     ]
    }
   ],
   "source": [
    "#Check data properties\n",
    "print(df.dtypes)"
   ]
  },
  {
   "cell_type": "code",
   "execution_count": 30,
   "id": "47da49e1",
   "metadata": {},
   "outputs": [
    {
     "name": "stdout",
     "output_type": "stream",
     "text": [
      "          EVENT_ID         AMOUNT\n",
      "count  3300.000000    3300.000000\n",
      "mean   1650.500000   11704.017273\n",
      "std     952.772271   24962.562491\n",
      "min       1.000000       1.000000\n",
      "25%     825.750000      10.000000\n",
      "50%    1650.500000     400.000000\n",
      "75%    2475.250000    6000.000000\n",
      "max    3300.000000  100000.000000\n"
     ]
    }
   ],
   "source": [
    "print(df.describe())"
   ]
  },
  {
   "cell_type": "code",
   "execution_count": 31,
   "id": "c72cae60",
   "metadata": {},
   "outputs": [
    {
     "data": {
      "text/plain": [
       "False"
      ]
     },
     "execution_count": 31,
     "metadata": {},
     "output_type": "execute_result"
    }
   ],
   "source": [
    "#check duplicate\n",
    "df.duplicated().any() "
   ]
  },
  {
   "cell_type": "code",
   "execution_count": 32,
   "id": "17f20c32",
   "metadata": {},
   "outputs": [
    {
     "data": {
      "text/plain": [
       "EVENT_TIME          0\n",
       "EVENT_ID            0\n",
       "CHANNEL             0\n",
       "CHALLENGE_RESULT    0\n",
       "USER_ID             0\n",
       "IP_ADDRESS          0\n",
       "ISP                 0\n",
       "USER_COUNTRY        0\n",
       "PAYEE_ID            0\n",
       "PAYEE_COUNTRY       0\n",
       "AMOUNT              0\n",
       "IS_FRAUD            0\n",
       "dtype: int64"
      ]
     },
     "execution_count": 32,
     "metadata": {},
     "output_type": "execute_result"
    }
   ],
   "source": [
    "#check null values in dataset\n",
    "null_counts = df.isnull().sum()  \n",
    "null_counts[null_counts > 0].sort_values(ascending=False)\n",
    "null_counts"
   ]
  },
  {
   "cell_type": "markdown",
   "id": "5648aa41",
   "metadata": {},
   "source": [
    "## Data transformation/pre-processing"
   ]
  },
  {
   "cell_type": "code",
   "execution_count": 33,
   "id": "8eb705e0",
   "metadata": {},
   "outputs": [],
   "source": [
    "# Convert the EVENT_TIME to datetime format\n",
    "df['EVENT_TIME'] = pd.to_datetime(df['EVENT_TIME'], format='%Y%m%d %H:%M')"
   ]
  },
  {
   "cell_type": "code",
   "execution_count": 34,
   "id": "4b6296c9",
   "metadata": {},
   "outputs": [
    {
     "data": {
      "text/plain": [
       "0      2016-08-01 00:01:00\n",
       "1      2016-08-01 00:05:00\n",
       "2      2016-08-01 00:07:00\n",
       "3      2016-08-01 00:08:00\n",
       "4      2016-08-01 00:08:00\n",
       "               ...        \n",
       "3295   2016-08-06 23:53:00\n",
       "3296   2016-08-06 23:56:00\n",
       "3297   2016-08-06 23:56:00\n",
       "3298   2016-08-06 23:57:00\n",
       "3299   2016-08-06 23:59:00\n",
       "Name: EVENT_TIME, Length: 3300, dtype: datetime64[ns]"
      ]
     },
     "execution_count": 34,
     "metadata": {},
     "output_type": "execute_result"
    }
   ],
   "source": [
    "df['EVENT_TIME']"
   ]
  },
  {
   "cell_type": "code",
   "execution_count": 35,
   "id": "27f36bca",
   "metadata": {},
   "outputs": [],
   "source": [
    "# Encode IS_FRAUD to binary format\n",
    "df['IS_FRAUD'] = df['IS_FRAUD'].map({'G': 0, 'F': 1})\n",
    "df['CHALLENGE_RESULT'] = df['CHALLENGE_RESULT'].map({'Y': 1, 'N': 0})\n"
   ]
  },
  {
   "cell_type": "code",
   "execution_count": 36,
   "id": "7fc0df6d",
   "metadata": {},
   "outputs": [],
   "source": [
    "df1 =df"
   ]
  },
  {
   "cell_type": "code",
   "execution_count": 37,
   "id": "de6973cf",
   "metadata": {},
   "outputs": [],
   "source": [
    "# Encode categorical columns\n",
    "label_encoders = {}\n",
    "for column in ['CHANNEL', 'USER_ID', 'IP_ADDRESS', 'ISP', 'USER_COUNTRY', 'PAYEE_ID', 'PAYEE_COUNTRY']:\n",
    "    le = LabelEncoder()\n",
    "    df1[column] = le.fit_transform(df1[column])\n",
    "    label_encoders[column] = le"
   ]
  },
  {
   "cell_type": "code",
   "execution_count": 38,
   "id": "2383e5de",
   "metadata": {},
   "outputs": [
    {
     "name": "stdout",
     "output_type": "stream",
     "text": [
      "\u001b[1mTotal number of Trnsactions are 3300\u001b[0m\n",
      "\u001b[1mNumber of Normal Transactions are 3000\u001b[0m\n",
      "\u001b[1mNumber of fraudulent Transactions are 300\u001b[0m\n",
      "\u001b[1mPercentage of fraud Transactions is 10.0\u001b[0m\n"
     ]
    }
   ],
   "source": [
    "Total_transactions = len(df1)\n",
    "normal = len(df1[df1.IS_FRAUD == 0])\n",
    "fraudulent = len(df1[df1.IS_FRAUD == 1])\n",
    "fraud_percentage = round(fraudulent/normal*100, 2)\n",
    "print(cl('Total number of Trnsactions are {}'.format(Total_transactions), attrs = ['bold']))\n",
    "print(cl('Number of Normal Transactions are {}'.format(normal), attrs = ['bold']))\n",
    "print(cl('Number of fraudulent Transactions are {}'.format(fraudulent), attrs = ['bold']))\n",
    "print(cl('Percentage of fraud Transactions is {}'.format(fraud_percentage), attrs = ['bold']))"
   ]
  },
  {
   "cell_type": "code",
   "execution_count": 39,
   "id": "69ab1302",
   "metadata": {},
   "outputs": [
    {
     "data": {
      "text/html": [
       "<div>\n",
       "<style scoped>\n",
       "    .dataframe tbody tr th:only-of-type {\n",
       "        vertical-align: middle;\n",
       "    }\n",
       "\n",
       "    .dataframe tbody tr th {\n",
       "        vertical-align: top;\n",
       "    }\n",
       "\n",
       "    .dataframe thead th {\n",
       "        text-align: right;\n",
       "    }\n",
       "</style>\n",
       "<table border=\"1\" class=\"dataframe\">\n",
       "  <thead>\n",
       "    <tr style=\"text-align: right;\">\n",
       "      <th></th>\n",
       "      <th>EVENT_TIME</th>\n",
       "      <th>EVENT_ID</th>\n",
       "      <th>CHANNEL</th>\n",
       "      <th>CHALLENGE_RESULT</th>\n",
       "      <th>USER_ID</th>\n",
       "      <th>IP_ADDRESS</th>\n",
       "      <th>ISP</th>\n",
       "      <th>USER_COUNTRY</th>\n",
       "      <th>PAYEE_ID</th>\n",
       "      <th>PAYEE_COUNTRY</th>\n",
       "      <th>AMOUNT</th>\n",
       "      <th>IS_FRAUD</th>\n",
       "    </tr>\n",
       "  </thead>\n",
       "  <tbody>\n",
       "    <tr>\n",
       "      <th>0</th>\n",
       "      <td>2016-08-01 00:01:00</td>\n",
       "      <td>1</td>\n",
       "      <td>0</td>\n",
       "      <td>1</td>\n",
       "      <td>179</td>\n",
       "      <td>2424</td>\n",
       "      <td>27</td>\n",
       "      <td>30</td>\n",
       "      <td>43</td>\n",
       "      <td>0</td>\n",
       "      <td>2</td>\n",
       "      <td>0</td>\n",
       "    </tr>\n",
       "    <tr>\n",
       "      <th>1</th>\n",
       "      <td>2016-08-01 00:05:00</td>\n",
       "      <td>2</td>\n",
       "      <td>2</td>\n",
       "      <td>0</td>\n",
       "      <td>413</td>\n",
       "      <td>150</td>\n",
       "      <td>28</td>\n",
       "      <td>4</td>\n",
       "      <td>12</td>\n",
       "      <td>32</td>\n",
       "      <td>20</td>\n",
       "      <td>0</td>\n",
       "    </tr>\n",
       "    <tr>\n",
       "      <th>2</th>\n",
       "      <td>2016-08-01 00:07:00</td>\n",
       "      <td>3</td>\n",
       "      <td>0</td>\n",
       "      <td>0</td>\n",
       "      <td>91</td>\n",
       "      <td>2534</td>\n",
       "      <td>7</td>\n",
       "      <td>1</td>\n",
       "      <td>77</td>\n",
       "      <td>5</td>\n",
       "      <td>10</td>\n",
       "      <td>0</td>\n",
       "    </tr>\n",
       "    <tr>\n",
       "      <th>3</th>\n",
       "      <td>2016-08-01 00:08:00</td>\n",
       "      <td>4</td>\n",
       "      <td>2</td>\n",
       "      <td>0</td>\n",
       "      <td>159</td>\n",
       "      <td>756</td>\n",
       "      <td>3</td>\n",
       "      <td>30</td>\n",
       "      <td>27</td>\n",
       "      <td>5</td>\n",
       "      <td>20</td>\n",
       "      <td>0</td>\n",
       "    </tr>\n",
       "    <tr>\n",
       "      <th>4</th>\n",
       "      <td>2016-08-01 00:08:00</td>\n",
       "      <td>5</td>\n",
       "      <td>1</td>\n",
       "      <td>0</td>\n",
       "      <td>202</td>\n",
       "      <td>260</td>\n",
       "      <td>21</td>\n",
       "      <td>1</td>\n",
       "      <td>45</td>\n",
       "      <td>0</td>\n",
       "      <td>90000</td>\n",
       "      <td>0</td>\n",
       "    </tr>\n",
       "  </tbody>\n",
       "</table>\n",
       "</div>"
      ],
      "text/plain": [
       "           EVENT_TIME  EVENT_ID  CHANNEL  CHALLENGE_RESULT  USER_ID  \\\n",
       "0 2016-08-01 00:01:00         1        0                 1      179   \n",
       "1 2016-08-01 00:05:00         2        2                 0      413   \n",
       "2 2016-08-01 00:07:00         3        0                 0       91   \n",
       "3 2016-08-01 00:08:00         4        2                 0      159   \n",
       "4 2016-08-01 00:08:00         5        1                 0      202   \n",
       "\n",
       "   IP_ADDRESS  ISP  USER_COUNTRY  PAYEE_ID  PAYEE_COUNTRY  AMOUNT  IS_FRAUD  \n",
       "0        2424   27            30        43              0       2         0  \n",
       "1         150   28             4        12             32      20         0  \n",
       "2        2534    7             1        77              5      10         0  \n",
       "3         756    3            30        27              5      20         0  \n",
       "4         260   21             1        45              0   90000         0  "
      ]
     },
     "execution_count": 39,
     "metadata": {},
     "output_type": "execute_result"
    }
   ],
   "source": [
    "#Check the data\n",
    "df1.head(5)"
   ]
  },
  {
   "cell_type": "markdown",
   "id": "34a4ba96",
   "metadata": {},
   "source": [
    "## Feature engineering and correlation (Automated)"
   ]
  },
  {
   "cell_type": "code",
   "execution_count": 40,
   "id": "846dfcca",
   "metadata": {},
   "outputs": [
    {
     "name": "stdout",
     "output_type": "stream",
     "text": [
      "<class 'pandas.core.frame.DataFrame'>\n",
      "RangeIndex: 3300 entries, 0 to 3299\n",
      "Data columns (total 12 columns):\n",
      " #   Column            Non-Null Count  Dtype         \n",
      "---  ------            --------------  -----         \n",
      " 0   EVENT_TIME        3300 non-null   datetime64[ns]\n",
      " 1   EVENT_ID          3300 non-null   int64         \n",
      " 2   CHANNEL           3300 non-null   int32         \n",
      " 3   CHALLENGE_RESULT  3300 non-null   int64         \n",
      " 4   USER_ID           3300 non-null   int32         \n",
      " 5   IP_ADDRESS        3300 non-null   int32         \n",
      " 6   ISP               3300 non-null   int32         \n",
      " 7   USER_COUNTRY      3300 non-null   int32         \n",
      " 8   PAYEE_ID          3300 non-null   int32         \n",
      " 9   PAYEE_COUNTRY     3300 non-null   int32         \n",
      " 10  AMOUNT            3300 non-null   int64         \n",
      " 11  IS_FRAUD          3300 non-null   int64         \n",
      "dtypes: datetime64[ns](1), int32(7), int64(4)\n",
      "memory usage: 219.3 KB\n"
     ]
    }
   ],
   "source": [
    "df1.info()"
   ]
  },
  {
   "cell_type": "markdown",
   "id": "ccdd19ff",
   "metadata": {},
   "source": [
    "##### Reason to consider  feature like: 'USER-ID', 'IP_Address', 'PAYEE_ID'"
   ]
  },
  {
   "cell_type": "code",
   "execution_count": 41,
   "id": "f9df625e",
   "metadata": {},
   "outputs": [],
   "source": [
    "## 'USER_ID': This might be useful if certain users are more likely to experience fraudulent transactions. \n",
    "##            If there is no such correlation, including this feature might only introduce noise in the data.\n",
    "\n",
    "## 'IP_ADDRESS': This might be useful because fraudulent transactions might be more likely from certain IP addresses. \n",
    "##               However, as IP addresses can be easily changed, this feature might not always be reliable.\n",
    "##                In addition, IP addresses are high-dimensional categorical data, and directly using them might be \n",
    "##                impractical due to the potential huge number of unique IPs. A better way could be mapping them \n",
    "##                to lower-dimensional data like countries or regions.\n",
    "\n",
    "## 'ISP': Similar to IP addresses, some ISPs might be more common for fraudulent transactions. \n",
    "##        Again, this depends on the nature of your data.\n",
    "\n",
    "## 'PAYEE_ID': If some payees are more commonly targeted, this might be a useful feature."
   ]
  },
  {
   "cell_type": "markdown",
   "id": "08fca7f4",
   "metadata": {},
   "source": [
    "##### Correction"
   ]
  },
  {
   "cell_type": "code",
   "execution_count": 42,
   "id": "7ae7ac80",
   "metadata": {},
   "outputs": [],
   "source": [
    "#Correlation of Variables ."
   ]
  },
  {
   "cell_type": "code",
   "execution_count": 43,
   "id": "8b4b63ab",
   "metadata": {},
   "outputs": [
    {
     "name": "stderr",
     "output_type": "stream",
     "text": [
      "C:\\Users\\ronal\\AppData\\Local\\Temp\\ipykernel_19620\\3935839824.py:3: DeprecationWarning: `np.bool` is a deprecated alias for the builtin `bool`. To silence this warning, use `bool` by itself. Doing this will not modify any behavior and is safe. If you specifically wanted the numpy scalar type, use `np.bool_` here.\n",
      "Deprecated in NumPy 1.20; for more details and guidance: https://numpy.org/devdocs/release/1.20.0-notes.html#deprecations\n",
      "  mask = np.triu(np.ones_like(df1.corr(), dtype=np.bool))\n"
     ]
    },
    {
     "data": {
      "text/plain": [
       "Text(0.5, 1.0, 'Triangle Correlation Heatmap')"
      ]
     },
     "execution_count": 43,
     "metadata": {},
     "output_type": "execute_result"
    },
    {
     "data": {
      "image/png": "[encoded data removed]",
      "text/plain": [
       "<Figure size 1152x432 with 2 Axes>"
      ]
     },
     "metadata": {
      "needs_background": "light"
     },
     "output_type": "display_data"
    }
   ],
   "source": [
    "import numpy as np\n",
    "plt.figure(figsize=(16, 6))\n",
    "mask = np.triu(np.ones_like(df1.corr(), dtype=np.bool))\n",
    "heatmap = sns.heatmap(df1.corr(), mask=mask, vmin=-1, vmax=1, annot=True, cmap='BrBG')\n",
    "heatmap.set_title('Triangle Correlation Heatmap', fontdict={'fontsize':18}, pad=16)"
   ]
  },
  {
   "cell_type": "code",
   "execution_count": 44,
   "id": "7e97a68a",
   "metadata": {},
   "outputs": [],
   "source": [
    "# Conclusion: No strong evidence to keep/remove specific feature"
   ]
  },
  {
   "cell_type": "code",
   "execution_count": 45,
   "id": "85baedbe",
   "metadata": {},
   "outputs": [
    {
     "data": {
      "image/png": "[encoded data removed]",
      "text/plain": [
       "<Figure size 432x288 with 2 Axes>"
      ]
     },
     "metadata": {
      "needs_background": "light"
     },
     "output_type": "display_data"
    }
   ],
   "source": [
    "#Correlation of Independent Variables with the Dependent Variable\n",
    "heatmap = sns.heatmap(df1.corr()[['IS_FRAUD']].sort_values(by='IS_FRAUD', ascending=False), vmin=-1, vmax=1, annot=True, cmap='BrBG')\n",
    "heatmap.set_title('Features Correlating with IS_FRAUD', fontdict={'fontsize':18}, pad=16);"
   ]
  },
  {
   "cell_type": "code",
   "execution_count": 46,
   "id": "79d9637f",
   "metadata": {
    "scrolled": true
   },
   "outputs": [
    {
     "name": "stdout",
     "output_type": "stream",
     "text": [
      "IS_FRAUD            1.000000\n",
      "IP_ADDRESS          0.025561\n",
      "AMOUNT              0.011687\n",
      "CHANNEL             0.000938\n",
      "EVENT_ID            0.000685\n",
      "USER_COUNTRY       -0.003522\n",
      "PAYEE_COUNTRY      -0.016743\n",
      "ISP                -0.023959\n",
      "CHALLENGE_RESULT   -0.028165\n",
      "PAYEE_ID           -0.031555\n",
      "USER_ID            -0.186879\n",
      "Name: IS_FRAUD, dtype: float64\n"
     ]
    }
   ],
   "source": [
    "# Here we are calculating correlations to IS_FRAUD feature for simplicity\n",
    "correlations = df1.corr()['IS_FRAUD'].sort_values(ascending=False)\n",
    "print(correlations)"
   ]
  },
  {
   "cell_type": "code",
   "execution_count": 47,
   "id": "d808f806",
   "metadata": {},
   "outputs": [],
   "source": [
    "# Conclusion: We can see there is not strong evidence which features is highly correlated to the dependent variable(IS_FRAUD)."
   ]
  },
  {
   "cell_type": "markdown",
   "id": "ccc70e7e",
   "metadata": {},
   "source": [
    "##### Feature selection"
   ]
  },
  {
   "cell_type": "code",
   "execution_count": 48,
   "id": "9db41bb8",
   "metadata": {},
   "outputs": [],
   "source": [
    "# We are appyling feature selection using models which can provide feature importance, such as Lasso, Random Forest, or Gradient Boosting"
   ]
  },
  {
   "cell_type": "code",
   "execution_count": 49,
   "id": "c7601147",
   "metadata": {},
   "outputs": [],
   "source": [
    "df1 = df1.drop(['EVENT_TIME'], axis=1)\n",
    "\n",
    "# Split the data into training and testing datasets\n",
    "train_df = df1.iloc[:2200]\n",
    "test_df = df1.iloc[2200:]\n",
    "\n",
    "\n",
    "## traning and testing\n",
    "X_train = train_df.drop('IS_FRAUD', axis=1)\n",
    "y_train = train_df['IS_FRAUD']\n",
    "X_test = test_df.drop('IS_FRAUD', axis=1)\n",
    "y_test = test_df['IS_FRAUD']\n",
    "\n",
    "# Define predictors (X) and target (y)\n",
    "X = train_df.drop('IS_FRAUD', axis=1) #predictors\n",
    "y = train_df['IS_FRAUD'] #target\n",
    "\n",
    "#Embeded feature selection method\n",
    "# Fit Lasso\n",
    "lasso = Lasso(alpha=0.1)\n",
    "lasso.fit(X_train, y_train)\n",
    "lasso_coef = lasso.coef_\n",
    "\n",
    "# Fit Random Forest\n",
    "rf = RandomForestClassifier(random_state=42)\n",
    "rf.fit(X_train, y_train)\n",
    "rf_importance = rf.feature_importances_\n",
    "\n",
    "# Fit Gradient Boosting\n",
    "gb = GradientBoostingClassifier(random_state=42)\n",
    "gb.fit(X_train, y_train)\n",
    "gb_importance = gb.feature_importances_"
   ]
  },
  {
   "cell_type": "code",
   "execution_count": 50,
   "id": "183f74f5",
   "metadata": {},
   "outputs": [
    {
     "name": "stdout",
     "output_type": "stream",
     "text": [
      "Lasso Coefficients:\n",
      "EVENT_ID: 5.728146441159295e-05\n",
      "CHANNEL: 0.0\n",
      "CHALLENGE_RESULT: -0.0\n",
      "USER_ID: -0.00032576330416385677\n",
      "IP_ADDRESS: 1.1330437781084929e-05\n",
      "ISP: -0.0\n",
      "USER_COUNTRY: 0.0\n",
      "PAYEE_ID: -0.0\n",
      "PAYEE_COUNTRY: -0.0\n",
      "AMOUNT: 1.3777944364565515e-07\n",
      "\n",
      "Random Forest Feature Importance:\n",
      "EVENT_ID: 0.2757002915021644\n",
      "CHANNEL: 0.02194564581394068\n",
      "CHALLENGE_RESULT: 0.015813905031929275\n",
      "USER_ID: 0.22961644890652944\n",
      "IP_ADDRESS: 0.11472550972546212\n",
      "ISP: 0.08342216467538466\n",
      "USER_COUNTRY: 0.06053345791666713\n",
      "PAYEE_ID: 0.07370942911524772\n",
      "PAYEE_COUNTRY: 0.05584387999778806\n",
      "AMOUNT: 0.06868926731488639\n",
      "\n",
      "Gradient Boosting Feature Importance:\n",
      "EVENT_ID: 0.513933332685283\n",
      "CHANNEL: 0.006167111500126351\n",
      "CHALLENGE_RESULT: 0.007051874284502278\n",
      "USER_ID: 0.2861572727669145\n",
      "IP_ADDRESS: 0.07800285856310216\n",
      "ISP: 0.07049344669163893\n",
      "USER_COUNTRY: 0.006493767727846112\n",
      "PAYEE_ID: 0.013942626693870943\n",
      "PAYEE_COUNTRY: 0.010149002413708653\n",
      "AMOUNT: 0.007608706673007043\n"
     ]
    }
   ],
   "source": [
    "# Print feature importance\n",
    "print(\"Lasso Coefficients:\")\n",
    "for feature, coef in zip(X.columns, lasso_coef):\n",
    "    print(f\"{feature}: {coef}\")\n",
    "    \n",
    "print(\"\\nRandom Forest Feature Importance:\")\n",
    "for feature, importance in zip(X.columns, rf_importance):\n",
    "    print(f\"{feature}: {importance}\")\n",
    "\n",
    "print(\"\\nGradient Boosting Feature Importance:\")\n",
    "for feature, importance in zip(X.columns, gb_importance):\n",
    "    print(f\"{feature}: {importance}\")"
   ]
  },
  {
   "cell_type": "code",
   "execution_count": 51,
   "id": "aa7b78d1",
   "metadata": {},
   "outputs": [],
   "source": [
    "#Looking at the feature importances from the Random Forest and Gradient Boosting models, we can see that the following features are highly important:\n",
    "## EVENT_ID\n",
    "## CHANNEL\n",
    "## USER_ID\n",
    "## IP_ADDRESS\n",
    "## ISP\n",
    "## PAYEE_ID\n",
    "## AMOUNT"
   ]
  },
  {
   "cell_type": "code",
   "execution_count": 52,
   "id": "df9115ae",
   "metadata": {},
   "outputs": [],
   "source": [
    "# Exploring interactions between features using Recursive Feature Elimination (RFE). "
   ]
  },
  {
   "cell_type": "code",
   "execution_count": 53,
   "id": "b2a59d72",
   "metadata": {},
   "outputs": [
    {
     "name": "stdout",
     "output_type": "stream",
     "text": [
      "Selected Features: \n",
      "Index(['EVENT_ID', 'USER_ID', 'IP_ADDRESS', 'ISP', 'PAYEE_ID'], dtype='object')\n",
      "\n",
      "Feature Ranking: \n",
      "{'EVENT_ID': 1, 'CHANNEL': 5, 'CHALLENGE_RESULT': 6, 'USER_ID': 1, 'IP_ADDRESS': 1, 'ISP': 1, 'USER_COUNTRY': 3, 'PAYEE_ID': 1, 'PAYEE_COUNTRY': 4, 'AMOUNT': 2}\n"
     ]
    }
   ],
   "source": [
    "## RFE\n",
    "# Initialize the model\n",
    "model = RandomForestClassifier(random_state=42)\n",
    "\n",
    "# Initialize RFE\n",
    "rfe = RFE(estimator=model, n_features_to_select=5, step=1)\n",
    "\n",
    "# Fit RFE\n",
    "rfe = rfe.fit(X_train, y_train)\n",
    "\n",
    "# Get the features that were selected: True if the feature is selected, False otherwise\n",
    "selected_features = rfe.support_\n",
    "\n",
    "# Get the rank of the features: 1 if the feature is selected, otherwise the feature ranking is proportional to the feature importance\n",
    "feature_ranking = rfe.ranking_\n",
    "\n",
    "# Print the results\n",
    "print(\"Selected Features: \")\n",
    "print(X_train.columns[selected_features])\n",
    "\n",
    "print(\"\\nFeature Ranking: \")\n",
    "print(dict(zip(X_train.columns, feature_ranking)))\n"
   ]
  },
  {
   "cell_type": "code",
   "execution_count": 54,
   "id": "f1ea1cb9",
   "metadata": {},
   "outputs": [],
   "source": [
    "## Recursive Feature Elimination (RFE) showing, the top 5 selected features are:\n",
    "\n",
    "## EVENT_ID\n",
    "## USER_ID\n",
    "## IP_ADDRESS\n",
    "## ISP\n",
    "## PAYEE_ID"
   ]
  },
  {
   "cell_type": "code",
   "execution_count": 30,
   "id": "82fa3514",
   "metadata": {},
   "outputs": [],
   "source": [
    "#Conclusion: For me first I would like to train my classifer based on Random Forest and Gradient Boosting models, we can see that the following features are highly important:\n",
    "\n",
    "## EVENT_ID\n",
    "## CHANNEL\n",
    "## USER_ID\n",
    "## IP_ADDRESS\n",
    "## ISP\n",
    "## PAYEE_ID\n",
    "## AMOUNT\n",
    "\n"
   ]
  },
  {
   "cell_type": "markdown",
   "id": "3de986b9",
   "metadata": {},
   "source": [
    "## Based on Autoated/Model selection based features"
   ]
  },
  {
   "cell_type": "code",
   "execution_count": 31,
   "id": "0d955ff1",
   "metadata": {},
   "outputs": [],
   "source": [
    "## Delete unwanted columns\n",
    "X_train = X_train.drop(['CHALLENGE_RESULT', 'USER_COUNTRY', 'PAYEE_COUNTRY', 'AMOUNT'], axis=1)\n",
    "X_test= X_test.drop(['CHALLENGE_RESULT', 'USER_COUNTRY', 'PAYEE_COUNTRY', 'AMOUNT'], axis=1)"
   ]
  },
  {
   "cell_type": "code",
   "execution_count": 32,
   "id": "5c61947b",
   "metadata": {},
   "outputs": [
    {
     "name": "stdout",
     "output_type": "stream",
     "text": [
      "\u001b[1m------------------------------------------------------------------------\u001b[0m\n",
      "X_train\n",
      "\u001b[1m------------------------------------------------------------------------\u001b[0m\n",
      "EVENT_ID\n",
      "CHANNEL\n",
      "USER_ID\n",
      "IP_ADDRESS\n",
      "ISP\n",
      "PAYEE_ID\n",
      "\u001b[1m------------------------------------------------------------------------\u001b[0m\n",
      "X_test\n",
      "\u001b[1m------------------------------------------------------------------------\u001b[0m\n",
      "EVENT_ID\n",
      "CHANNEL\n",
      "USER_ID\n",
      "IP_ADDRESS\n",
      "ISP\n",
      "PAYEE_ID\n"
     ]
    }
   ],
   "source": [
    "print(cl('------------------------------------------------------------------------', attrs = ['bold']))\n",
    "print(\"X_train\")\n",
    "print(cl('------------------------------------------------------------------------', attrs = ['bold']))\n",
    "for col in X_train.columns:\n",
    "    print(col)\n",
    "print(cl('------------------------------------------------------------------------', attrs = ['bold']))\n",
    "print(\"X_test\")\n",
    "print(cl('------------------------------------------------------------------------', attrs = ['bold']))\n",
    "for col in X_test.columns:\n",
    "    print(col)"
   ]
  },
  {
   "cell_type": "markdown",
   "id": "9b33b7a9",
   "metadata": {},
   "source": [
    "## Model training"
   ]
  },
  {
   "cell_type": "code",
   "execution_count": 33,
   "id": "5cbd1928",
   "metadata": {},
   "outputs": [],
   "source": [
    "# Random Forest\n",
    "rf_clf = RandomForestClassifier(n_estimators=100)\n",
    "rf_clf.fit(X_train, y_train)\n",
    "rf_preds = rf_clf.predict(X_test)\n",
    "\n",
    "\n",
    "# XGBoost\n",
    "from xgboost import XGBClassifier\n",
    "xgb_clf = XGBClassifier()\n",
    "xgb_clf.fit(X_train, y_train)\n",
    "xgb_preds = xgb_clf.predict(X_test)\n"
   ]
  },
  {
   "cell_type": "code",
   "execution_count": 34,
   "id": "efc3bc4c",
   "metadata": {},
   "outputs": [
    {
     "name": "stdout",
     "output_type": "stream",
     "text": [
      "\u001b[1mACCURACY SCORE\u001b[0m\n",
      "\u001b[1m------------------------------------------------------------------------\u001b[0m\n",
      "\u001b[1mAccuracy score of the Random Forest is 0.7136363636363636\u001b[0m\n",
      "\u001b[1m------------------------------------------------------------------------\u001b[0m\n",
      "\u001b[1m\u001b[32mAccuracy score of the XGBoost is 0.730909090909091\u001b[0m\n",
      "\u001b[1m------------------------------------------------------------------------\u001b[0m\n"
     ]
    }
   ],
   "source": [
    "# 1. Accuracy score\n",
    "\n",
    "print(cl('ACCURACY SCORE', attrs = ['bold']))\n",
    "print(cl('------------------------------------------------------------------------', attrs = ['bold']))\n",
    "print(cl('Accuracy score of the Random Forest is {}'.format(accuracy_score(y_test, rf_preds)), attrs = ['bold']))\n",
    "print(cl('------------------------------------------------------------------------', attrs = ['bold']))\n",
    "print(cl('Accuracy score of the XGBoost is {}'.format(accuracy_score(y_test, xgb_preds)), attrs = ['bold'], color = 'green'))\n",
    "print(cl('------------------------------------------------------------------------', attrs = ['bold']))\n",
    "\n"
   ]
  },
  {
   "cell_type": "code",
   "execution_count": 35,
   "id": "8c979994",
   "metadata": {},
   "outputs": [
    {
     "name": "stdout",
     "output_type": "stream",
     "text": [
      "Random Forest Results:\n",
      "              precision    recall  f1-score   support\n",
      "\n",
      "           0       0.94      0.73      0.82      1000\n",
      "           1       0.17      0.54      0.26       100\n",
      "\n",
      "    accuracy                           0.71      1100\n",
      "   macro avg       0.55      0.64      0.54      1100\n",
      "weighted avg       0.87      0.71      0.77      1100\n",
      "\n",
      "XGBoost Results:\n",
      "              precision    recall  f1-score   support\n",
      "\n",
      "           0       0.94      0.75      0.83      1000\n",
      "           1       0.18      0.56      0.27       100\n",
      "\n",
      "    accuracy                           0.73      1100\n",
      "   macro avg       0.56      0.65      0.55      1100\n",
      "weighted avg       0.88      0.73      0.78      1100\n",
      "\n"
     ]
    }
   ],
   "source": [
    "print(\"Random Forest Results:\")\n",
    "print(classification_report(y_test, rf_preds))\n",
    "\n",
    "print(\"XGBoost Results:\")\n",
    "print(classification_report(y_test, xgb_preds))"
   ]
  },
  {
   "cell_type": "markdown",
   "id": "c690edea",
   "metadata": {},
   "source": [
    "## Model Evaluation discussion"
   ]
  },
  {
   "cell_type": "markdown",
   "id": "8bad1e45",
   "metadata": {},
   "source": [
    "Now, let's compare the two models:\n",
    "\n",
    "Random Forest:\n",
    "- Precision: 0.17 (for class 1)\n",
    "- Recall: 0.54 (for class 1)\n",
    "- F1-Score: 0.26 (for class 1)\n",
    "- Accuracy: 0.71\n",
    "\n",
    "\n",
    "XGBoost:\n",
    "- Precision: 0.18 (for class 1)\n",
    "- Recall: 0.56 (for class 1)\n",
    "- F1-Score: 0.27 (for class 1)\n",
    "- Accuracy: 0.73\n",
    "\n",
    "From these values, we can see that the XGBoost model performs slightly better on all metrics than the Random Forest model.\n",
    "\n",
    "However, both models seem to struggle with class 1. The precision is particularly low for this class, indicating a high number of false positives. Similarly, the recall isn't particularly high, indicating a fair number of false negatives. The F1 score, which combines these two measurements, is quite low, suggesting the model isn't performing well for this class.\n",
    "\n",
    "In conclusion, even though XGBoost is slightly better, there might still be room for improving the performance of our models. We can do this by considering techniques like hyperparameter tuning.\n"
   ]
  },
  {
   "cell_type": "markdown",
   "id": "cbf6798a",
   "metadata": {},
   "source": [
    "## Hyperparameter tunning"
   ]
  },
  {
   "cell_type": "code",
   "execution_count": 36,
   "id": "526d8395",
   "metadata": {},
   "outputs": [
    {
     "name": "stdout",
     "output_type": "stream",
     "text": [
      "Fitting 3 folds for each of 243 candidates, totalling 729 fits\n",
      "{'colsample_bytree': 0.5, 'learning_rate': 0.2, 'max_depth': 3, 'n_estimators': 300, 'subsample': 1.0}\n",
      "              precision    recall  f1-score   support\n",
      "\n",
      "           0       0.94      0.75      0.84      1000\n",
      "           1       0.18      0.56      0.28       100\n",
      "\n",
      "    accuracy                           0.73      1100\n",
      "   macro avg       0.56      0.66      0.56      1100\n",
      "weighted avg       0.88      0.73      0.79      1100\n",
      "\n"
     ]
    }
   ],
   "source": [
    "from sklearn.model_selection import GridSearchCV\n",
    "\n",
    "# Define parameter grid\n",
    "param_grid = {\n",
    "    'learning_rate': [0.01, 0.1, 0.2],\n",
    "    'max_depth': [3, 5, 7],\n",
    "    'n_estimators': [100, 200, 300],\n",
    "    'subsample': [0.5, 0.7, 1.0],\n",
    "    'colsample_bytree': [0.5, 0.7, 1.0]\n",
    "}\n",
    "\n",
    "# XGBoost base model\n",
    "xgb = XGBClassifier(random_state=42)\n",
    "\n",
    "# Initialize Grid Search\n",
    "grid_search = GridSearchCV(estimator=xgb, param_grid=param_grid, cv=3, n_jobs=-1, verbose=2, scoring='f1')\n",
    "\n",
    "# Fit the grid search to the data\n",
    "grid_search.fit(X_train, y_train)\n",
    "\n",
    "# Check the best parameters\n",
    "print(grid_search.best_params_)\n",
    "\n",
    "# Predict using the model with tuned parameters\n",
    "grid_search_best = grid_search.best_estimator_\n",
    "xgb_preds_tuned = grid_search_best.predict(X_test)\n",
    "\n",
    "# Evaluate\n",
    "print(classification_report(y_test, xgb_preds_tuned))\n"
   ]
  },
  {
   "cell_type": "markdown",
   "id": "63a81a72",
   "metadata": {},
   "source": [
    "#### Why even hyperparameter is not improving the model"
   ]
  },
  {
   "cell_type": "markdown",
   "id": "8807d6bd",
   "metadata": {},
   "source": [
    "The reason this we have imbalanced data, I think the main reason for imbalanced data is one of the instruction given to select the data for training and test **\"Use first 2200 records for training and the remaining 1100 ones for testing purposes\"**. This way we have one class larger than other"
   ]
  },
  {
   "cell_type": "markdown",
   "id": "fec64e21",
   "metadata": {},
   "source": [
    "##### Check imbalance class in trianing and test data"
   ]
  },
  {
   "cell_type": "code",
   "execution_count": 37,
   "id": "2c5bec94",
   "metadata": {},
   "outputs": [
    {
     "name": "stdout",
     "output_type": "stream",
     "text": [
      "Imbalance class in Training data\n",
      "\u001b[1m-----------------------------------\u001b[0m\n",
      "0    2000\n",
      "1     200\n",
      "Name: IS_FRAUD, dtype: int64\n",
      "training data imbalance Ratio: 10.0\n",
      "\u001b[1m-----------------------------------\u001b[0m\n"
     ]
    }
   ],
   "source": [
    "# for training\n",
    "training_class_counts = train_df['IS_FRAUD'].value_counts()\n",
    "print(\"Imbalance class in Training data\")\n",
    "print(cl('-----------------------------------', attrs = ['bold']))\n",
    "\n",
    "# Print the training class distribution\n",
    "print(training_class_counts)\n",
    "\n",
    "# Calculate the imbalance ratio\n",
    "training_imbalance_ratio = training_class_counts.max() / training_class_counts.min()\n",
    "print(f'training data imbalance Ratio: {training_imbalance_ratio}')\n",
    "print(cl('-----------------------------------', attrs = ['bold']))"
   ]
  },
  {
   "cell_type": "code",
   "execution_count": 38,
   "id": "a8bf6aa1",
   "metadata": {},
   "outputs": [
    {
     "name": "stdout",
     "output_type": "stream",
     "text": [
      "Imbalance class in Test data \n",
      "\u001b[1m-----------------------------------\u001b[0m\n",
      "0    1000\n",
      "1     100\n",
      "Name: IS_FRAUD, dtype: int64\n",
      "training data imbalance Ratio: 10.0\n",
      "\u001b[1m-----------------------------------\u001b[0m\n"
     ]
    }
   ],
   "source": [
    "# for test\n",
    "test_class_counts = test_df['IS_FRAUD'].value_counts()\n",
    "print(\"Imbalance class in Test data \")\n",
    "print(cl('-----------------------------------', attrs = ['bold']))\n",
    "# Print the training class distribution\n",
    "print(test_class_counts)\n",
    "\n",
    "# Calculate the imbalance ratio\n",
    "test_imbalance_ratio = test_class_counts.max() / test_class_counts.min()\n",
    "print(f'training data imbalance Ratio: {test_imbalance_ratio}')\n",
    "print(cl('-----------------------------------', attrs = ['bold']))"
   ]
  },
  {
   "cell_type": "markdown",
   "id": "a6c4ff9e",
   "metadata": {},
   "source": [
    "## Solutions"
   ]
  },
  {
   "cell_type": "markdown",
   "id": "8e9725eb",
   "metadata": {},
   "source": [
    "- One possible solution is to split the training and testing data 'randomly' so that we can get better representation of both the classes, in specifically I will choose randomaly select 75%  data from 'frd_sample.csv' for training  and 25% data for testing purpose\n",
    "\n",
    "- In case there is a restriction to use first 2200 records for training and the remaining 1100 ones for testing purposes, then I can use method like oversampling the minority class (e.g., SMOTE)\n",
    "\n",
    "Rather than creating synthetic data, I would prefer first approach"
   ]
  },
  {
   "cell_type": "markdown",
   "id": "8c4fc7c8",
   "metadata": {},
   "source": [
    "#### Solution1: Randomaly Split the data for training and test (75:25)"
   ]
  },
  {
   "cell_type": "code",
   "execution_count": 39,
   "id": "a03ed200",
   "metadata": {},
   "outputs": [],
   "source": [
    "# Split the data into training set and test set\n",
    "X_train1, X_test1, y_train1, y_test1 = train_test_split(df1.drop('IS_FRAUD', axis=1), df1['IS_FRAUD'], test_size=0.25, random_state=42)\n"
   ]
  },
  {
   "cell_type": "code",
   "execution_count": 40,
   "id": "a67386e3",
   "metadata": {},
   "outputs": [
    {
     "name": "stdout",
     "output_type": "stream",
     "text": [
      "\u001b[1m------------------------------------------------------\u001b[0m\n",
      "Randomaly Split the data for training and test (75:25)\n",
      "\u001b[1m------------------------------------------------------\u001b[0m\n",
      "0    2251\n",
      "1     224\n",
      "Name: IS_FRAUD, dtype: int64\n",
      "0    749\n",
      "1     76\n",
      "Name: IS_FRAUD, dtype: int64\n"
     ]
    }
   ],
   "source": [
    "print(cl('------------------------------------------------------', attrs = ['bold']))\n",
    "print(\"Randomaly Split the data for training and test (75:25)\")\n",
    "print(cl('------------------------------------------------------', attrs = ['bold']))\n",
    "# Checking imbalance in training set\n",
    "print(y_train1.value_counts())\n",
    "\n",
    "# Checking imbalance in test set\n",
    "print(y_test1.value_counts())"
   ]
  },
  {
   "cell_type": "markdown",
   "id": "b52c46e9",
   "metadata": {},
   "source": [
    "The results showing even random split of training and test is not working because the given data itself given as imbalanced. Therefore, we need to adopt the oversampling method."
   ]
  },
  {
   "cell_type": "markdown",
   "id": "235f6bec",
   "metadata": {},
   "source": [
    "#### Solution2: Oversampling SOMET method"
   ]
  },
  {
   "cell_type": "code",
   "execution_count": 41,
   "id": "6fa82297",
   "metadata": {},
   "outputs": [
    {
     "name": "stdout",
     "output_type": "stream",
     "text": [
      "\u001b[1m------------------------------------------------------\u001b[0m\n",
      "Oversampling SOMET method on the dataset for training and test (75:25)\n",
      "\u001b[1m------------------------------------------------------\u001b[0m\n",
      "0    2000\n",
      "1    2000\n",
      "Name: IS_FRAUD, dtype: int64\n"
     ]
    }
   ],
   "source": [
    "from imblearn.over_sampling import SMOTE\n",
    "print(cl('------------------------------------------------------', attrs = ['bold']))\n",
    "print(\"Oversampling SOMET method on the dataset for training and test (75:25)\")\n",
    "print(cl('------------------------------------------------------', attrs = ['bold']))\n",
    "# Create an instance of SMOTE\n",
    "smote = SMOTE(random_state=42)\n",
    "\n",
    "# Apply SMOTE to the training data\n",
    "X_train_smote, y_train_smote = smote.fit_resample(X_train, y_train)\n",
    "\n",
    "# Checking the class distribution after applying SMOTE\n",
    "print(y_train_smote.value_counts())\n"
   ]
  },
  {
   "cell_type": "markdown",
   "id": "dd6e57fc",
   "metadata": {},
   "source": [
    "#### Retrain model on balanced data"
   ]
  },
  {
   "cell_type": "code",
   "execution_count": 42,
   "id": "661c21e1",
   "metadata": {},
   "outputs": [
    {
     "name": "stdout",
     "output_type": "stream",
     "text": [
      "Random Forest Results:\n",
      "              precision    recall  f1-score   support\n",
      "\n",
      "           0       0.94      0.74      0.83      1000\n",
      "           1       0.17      0.52      0.25       100\n",
      "\n",
      "    accuracy                           0.72      1100\n",
      "   macro avg       0.55      0.63      0.54      1100\n",
      "weighted avg       0.87      0.72      0.77      1100\n",
      "\n",
      "XGBoost Results:\n",
      "              precision    recall  f1-score   support\n",
      "\n",
      "           0       0.94      0.73      0.82      1000\n",
      "           1       0.17      0.55      0.26       100\n",
      "\n",
      "    accuracy                           0.71      1100\n",
      "   macro avg       0.56      0.64      0.54      1100\n",
      "weighted avg       0.87      0.71      0.77      1100\n",
      "\n"
     ]
    },
    {
     "data": {
      "text/plain": [
       "['label_encoders.pkl']"
      ]
     },
     "execution_count": 42,
     "metadata": {},
     "output_type": "execute_result"
    }
   ],
   "source": [
    "# Random Forest\n",
    "rf_clf = RandomForestClassifier(n_estimators=100)\n",
    "rf_clf.fit(X_train_smote, y_train_smote)\n",
    "rf_preds = rf_clf.predict(X_test)\n",
    "print(\"Random Forest Results:\")\n",
    "print(classification_report(y_test, rf_preds))\n",
    "\n",
    "# XGBoost\n",
    "xgb_clf = XGBClassifier()\n",
    "xgb_clf.fit(X_train_smote, y_train_smote)\n",
    "xgb_preds = xgb_clf.predict(X_test)\n",
    "print(\"XGBoost Results:\")\n",
    "print(classification_report(y_test, xgb_preds))\n",
    "\n",
    "# Save model\n",
    "xgb_clf.save_model('xgb_model.xgb')\n",
    "\n",
    "import joblib\n",
    "#Save label encoders\n",
    "joblib.dump(label_encoders, 'label_encoders.pkl')"
   ]
  },
  {
   "cell_type": "markdown",
   "id": "9c11be61",
   "metadata": {},
   "source": [
    "## New Model evalaution discussion"
   ]
  },
  {
   "cell_type": "markdown",
   "id": "41d54409",
   "metadata": {},
   "source": [
    "Both models have performed relatively similar in terms of their F1-score, precision, and recall. However, their performance differs slightly when it comes to classifying the two different classes, particularly in relation to recall.\n",
    "\n",
    "**Random Forest:**\n",
    "\n",
    "- Better at predicting the majority class (0), with a recall of 0.74 vs 0.73 in XGBoost.\n",
    "- Slightly lower recall for the minority class (1) compared to XGBoost, with a recall of 0.52 vs 0.55.\n",
    "\n",
    "**XGBoost:**\n",
    "\n",
    "- Better at predicting the minority class (1), with a recall of 0.55 vs 0.52 in Random Forest.\n",
    "- Slightly lower recall for the majority class (0) compared to Random Forest, with a recall of 0.73 vs 0.74.\n",
    "\n",
    "Therefore, the choice of model depends on the specific requirements of our problem:\n",
    "\n",
    "- If correctly identifying fraudulent transactions (class 1) is more important, then you might want to prioritize recall for class 1, in which case XGBoost performs slightly better.\n",
    "\n",
    "- If correctly identifying non-fraudulent transactions (class 0) is more important, then you might want to prioritize recall for class 0, in which case Random Forest performs slightly better.\n",
    "\n",
    "\n",
    "As our priority is to achieving high fraud detection with low false positives, XGBoost seems like a better choice for our problem. However, there is still issue of low false positive. Let’s see if hyperparameter tuning going to help us."
   ]
  },
  {
   "cell_type": "code",
   "execution_count": null,
   "id": "458687ef",
   "metadata": {},
   "outputs": [
    {
     "name": "stdout",
     "output_type": "stream",
     "text": [
      "Fitting 5 folds for each of 243 candidates, totalling 1215 fits\n"
     ]
    }
   ],
   "source": [
    "\n",
    "# Define parameter grid\n",
    "param_grid = {\n",
    "    'learning_rate': [0.01, 0.1, 0.2],\n",
    "    'max_depth': [3, 5, 7],\n",
    "    'n_estimators': [100, 200, 300],\n",
    "    'subsample': [0.5, 0.7, 1.0],\n",
    "    'colsample_bytree': [0.5, 0.7, 1.0]\n",
    "}\n",
    "\n",
    "# XGBoost base model\n",
    "xgb = XGBClassifier(random_state=42)\n",
    "\n",
    "# Initialize Grid Search\n",
    "grid_search = GridSearchCV(estimator=xgb, param_grid=param_grid, cv=5, n_jobs=-1, verbose=2, scoring='f1')\n",
    "\n",
    "# Fit the grid search to the data\n",
    "grid_search.fit(X_train_smote, y_train_smote)\n",
    "\n",
    "# Check the best parameters\n",
    "print(grid_search.best_params_)\n",
    "\n",
    "# Predict using the model with tuned parameters\n",
    "grid_search_best = grid_search.best_estimator_\n",
    "xgb_preds_tuned = grid_search_best.predict(X_test)\n",
    "\n",
    "# Evaluate\n",
    "print(classification_report(y_test, xgb_preds_tuned))\n"
   ]
  },
  {
   "cell_type": "markdown",
   "id": "044480dc",
   "metadata": {},
   "source": [
    "No improvement after hypyerparameter tunning. However our final model selection is \"XGBoost\" model as we discussed above"
   ]
  },
  {
   "cell_type": "markdown",
   "id": "2197f02f",
   "metadata": {},
   "source": [
    "## API Creation"
   ]
  },
  {
   "cell_type": "code",
   "execution_count": 290,
   "id": "affa06f4",
   "metadata": {},
   "outputs": [
    {
     "data": {
      "text/html": [
       "<div>\n",
       "<style scoped>\n",
       "    .dataframe tbody tr th:only-of-type {\n",
       "        vertical-align: middle;\n",
       "    }\n",
       "\n",
       "    .dataframe tbody tr th {\n",
       "        vertical-align: top;\n",
       "    }\n",
       "\n",
       "    .dataframe thead th {\n",
       "        text-align: right;\n",
       "    }\n",
       "</style>\n",
       "<table border=\"1\" class=\"dataframe\">\n",
       "  <thead>\n",
       "    <tr style=\"text-align: right;\">\n",
       "      <th></th>\n",
       "      <th>EVENT_ID</th>\n",
       "      <th>CHANNEL</th>\n",
       "      <th>USER_ID</th>\n",
       "      <th>IP_ADDRESS</th>\n",
       "      <th>ISP</th>\n",
       "      <th>PAYEE_ID</th>\n",
       "    </tr>\n",
       "  </thead>\n",
       "  <tbody>\n",
       "    <tr>\n",
       "      <th>0</th>\n",
       "      <td>1</td>\n",
       "      <td>0</td>\n",
       "      <td>179</td>\n",
       "      <td>2424</td>\n",
       "      <td>27</td>\n",
       "      <td>43</td>\n",
       "    </tr>\n",
       "    <tr>\n",
       "      <th>1</th>\n",
       "      <td>2</td>\n",
       "      <td>2</td>\n",
       "      <td>413</td>\n",
       "      <td>150</td>\n",
       "      <td>28</td>\n",
       "      <td>12</td>\n",
       "    </tr>\n",
       "    <tr>\n",
       "      <th>2</th>\n",
       "      <td>3</td>\n",
       "      <td>0</td>\n",
       "      <td>91</td>\n",
       "      <td>2534</td>\n",
       "      <td>7</td>\n",
       "      <td>77</td>\n",
       "    </tr>\n",
       "    <tr>\n",
       "      <th>3</th>\n",
       "      <td>4</td>\n",
       "      <td>2</td>\n",
       "      <td>159</td>\n",
       "      <td>756</td>\n",
       "      <td>3</td>\n",
       "      <td>27</td>\n",
       "    </tr>\n",
       "    <tr>\n",
       "      <th>4</th>\n",
       "      <td>5</td>\n",
       "      <td>1</td>\n",
       "      <td>202</td>\n",
       "      <td>260</td>\n",
       "      <td>21</td>\n",
       "      <td>45</td>\n",
       "    </tr>\n",
       "    <tr>\n",
       "      <th>...</th>\n",
       "      <td>...</td>\n",
       "      <td>...</td>\n",
       "      <td>...</td>\n",
       "      <td>...</td>\n",
       "      <td>...</td>\n",
       "      <td>...</td>\n",
       "    </tr>\n",
       "    <tr>\n",
       "      <th>3995</th>\n",
       "      <td>1372</td>\n",
       "      <td>0</td>\n",
       "      <td>98</td>\n",
       "      <td>1366</td>\n",
       "      <td>21</td>\n",
       "      <td>25</td>\n",
       "    </tr>\n",
       "    <tr>\n",
       "      <th>3996</th>\n",
       "      <td>306</td>\n",
       "      <td>0</td>\n",
       "      <td>429</td>\n",
       "      <td>1366</td>\n",
       "      <td>8</td>\n",
       "      <td>14</td>\n",
       "    </tr>\n",
       "    <tr>\n",
       "      <th>3997</th>\n",
       "      <td>1481</td>\n",
       "      <td>1</td>\n",
       "      <td>185</td>\n",
       "      <td>1634</td>\n",
       "      <td>25</td>\n",
       "      <td>59</td>\n",
       "    </tr>\n",
       "    <tr>\n",
       "      <th>3998</th>\n",
       "      <td>462</td>\n",
       "      <td>1</td>\n",
       "      <td>136</td>\n",
       "      <td>1974</td>\n",
       "      <td>15</td>\n",
       "      <td>53</td>\n",
       "    </tr>\n",
       "    <tr>\n",
       "      <th>3999</th>\n",
       "      <td>1534</td>\n",
       "      <td>0</td>\n",
       "      <td>142</td>\n",
       "      <td>463</td>\n",
       "      <td>18</td>\n",
       "      <td>38</td>\n",
       "    </tr>\n",
       "  </tbody>\n",
       "</table>\n",
       "<p>4000 rows × 6 columns</p>\n",
       "</div>"
      ],
      "text/plain": [
       "      EVENT_ID  CHANNEL  USER_ID  IP_ADDRESS  ISP  PAYEE_ID\n",
       "0            1        0      179        2424   27        43\n",
       "1            2        2      413         150   28        12\n",
       "2            3        0       91        2534    7        77\n",
       "3            4        2      159         756    3        27\n",
       "4            5        1      202         260   21        45\n",
       "...        ...      ...      ...         ...  ...       ...\n",
       "3995      1372        0       98        1366   21        25\n",
       "3996       306        0      429        1366    8        14\n",
       "3997      1481        1      185        1634   25        59\n",
       "3998       462        1      136        1974   15        53\n",
       "3999      1534        0      142         463   18        38\n",
       "\n",
       "[4000 rows x 6 columns]"
      ]
     },
     "execution_count": 290,
     "metadata": {},
     "output_type": "execute_result"
    }
   ],
   "source": [
    "X_train_smote"
   ]
  },
  {
   "cell_type": "code",
   "execution_count": 291,
   "id": "b0ad6c24",
   "metadata": {},
   "outputs": [
    {
     "data": {
      "text/plain": [
       "XGBClassifier(base_score=None, booster=None, callbacks=None,\n",
       "              colsample_bylevel=None, colsample_bynode=None,\n",
       "              colsample_bytree=None, early_stopping_rounds=None,\n",
       "              enable_categorical=False, eval_metric=None, gamma=None,\n",
       "              gpu_id=None, grow_policy=None, importance_type=None,\n",
       "              interaction_constraints=None, learning_rate=None, max_bin=None,\n",
       "              max_cat_to_onehot=None, max_delta_step=None, max_depth=None,\n",
       "              max_leaves=None, min_child_weight=None, missing=nan,\n",
       "              monotone_constraints=None, n_estimators=100, n_jobs=None,\n",
       "              num_parallel_tree=None, predictor=None, random_state=42,\n",
       "              reg_alpha=None, reg_lambda=None, ...)"
      ]
     },
     "execution_count": 291,
     "metadata": {},
     "output_type": "execute_result"
    }
   ],
   "source": [
    "xgb"
   ]
  },
  {
   "cell_type": "code",
   "execution_count": null,
   "id": "363f929b",
   "metadata": {},
   "outputs": [],
   "source": []
  },
  {
   "cell_type": "code",
   "execution_count": null,
   "id": "b5e80e34",
   "metadata": {},
   "outputs": [],
   "source": []
  },
  {
   "cell_type": "code",
   "execution_count": null,
   "id": "13f82dcd",
   "metadata": {},
   "outputs": [],
   "source": []
  }
 ],
 "metadata": {
  "kernelspec": {
   "display_name": "Python 3 (ipykernel)",
   "language": "python",
   "name": "python3"
  },
  "language_info": {
   "codemirror_mode": {
    "name": "ipython",
    "version": 3
   },
   "file_extension": ".py",
   "mimetype": "text/x-python",
   "name": "python",
   "nbconvert_exporter": "python",
   "pygments_lexer": "ipython3",
   "version": "3.9.12"
  }
 },
 "nbformat": 4,
 "nbformat_minor": 5
}
